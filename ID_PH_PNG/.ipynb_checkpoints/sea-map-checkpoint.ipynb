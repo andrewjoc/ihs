{
 "cells": [
  {
   "cell_type": "code",
   "execution_count": 101,
   "id": "9a11d120-adf0-4eaf-a1d5-abf375fdd416",
   "metadata": {},
   "outputs": [],
   "source": [
    "import pandas as pd\n",
    "import geopandas as gpd\n",
    "import folium\n",
    "import os\n",
    "from shapely.geometry import Point\n",
    "import webbrowser\n",
    "import numpy as np\n",
    "from flask import Flask\n",
    "import requests"
   ]
  },
  {
   "cell_type": "code",
   "execution_count": 102,
   "id": "31e39951-a87a-4ace-9777-6ef6065ad703",
   "metadata": {},
   "outputs": [],
   "source": [
    "people_groups = pd.read_excel('People_Groups.xlsx')"
   ]
  },
  {
   "cell_type": "markdown",
   "id": "1c5bbdc5-57c9-4b33-90fa-d24a20122b60",
   "metadata": {},
   "source": [
    "***"
   ]
  },
  {
   "cell_type": "markdown",
   "id": "28fc4c77-5939-4bea-8f4a-84a0395e4abb",
   "metadata": {},
   "source": [
    "# Indonesia"
   ]
  },
  {
   "cell_type": "code",
   "execution_count": 103,
   "id": "fdfa090e-c557-4f8e-ab97-719eab872b29",
   "metadata": {},
   "outputs": [],
   "source": [
    "f = \"./ID_pop_estimates/Indonesia_5yr_age_sex_2000-2020_508_uscb_mar2019.xlsx\"\n",
    "id_pop_estimates = pd.read_excel(f, sheet_name='2000-2020', header = 3)\n",
    "\n",
    "\n",
    "file = \"./ID_pop_estimates/Indonesia_adm2_uscb_2019.shp\"\n",
    "id_adm2 = gpd.read_file(file)\n",
    "\n",
    "id_map_data = pd.merge(id_pop_estimates[['AREA_NAME', 'GEO_CONCAT', 'ADM1_NAME', 'ADM2_NAME', 'ADM_LEVEL', 'BTOTL_2020']],\n",
    "                      id_adm2[['GEO_CONCAT', 'geometry']], on='GEO_CONCAT', how='left')\n",
    "\n",
    "id_map_data.columns = ['AREA_NAME', 'GEO_CONCAT', 'Province', 'Regency', 'ADM_LEVEL', 'Regency Population (2020)', 'geometry']\n",
    "\n",
    "id_map_data = gpd.GeoDataFrame(id_map_data.query('geometry != None').drop(['AREA_NAME', 'GEO_CONCAT', 'ADM_LEVEL'], axis=1), geometry='geometry')"
   ]
  },
  {
   "cell_type": "markdown",
   "id": "1f737d58-8d8e-40d9-8b08-811d4dd7c3d8",
   "metadata": {},
   "source": [
    "USE FOR OTHER MAP\n",
    "id_map_data = pd.merge(id_pop_estimates[['GEO_CONCAT', 'ADM1_NAME', 'ADM2_NAME', 'BTOTL_2015', 'BTOTL_2016',\n",
    "                                         'BTOTL_2017', 'BTOTL_2018', 'BTOTL_2019', 'BTOTL_2020']],\n",
    "                      id_adm2[['GEO_CONCAT', 'geometry']], on='GEO_CONCAT', how='left')\n",
    "\n",
    "id_map_data.columns = ['GEO_CONCAT', 'Province', 'Regency', 'Regency Population (2015)', 'Regency Population (2016)',\n",
    "                                         'Regency Population (2017)', 'Regency Population (2018)', 'Regency Population (2019)', 'Regency Population (2020)', 'geometry']"
   ]
  },
  {
   "cell_type": "code",
   "execution_count": 105,
   "id": "ef2a1543-9c01-451c-9195-44f933960992",
   "metadata": {},
   "outputs": [
    {
     "data": {
      "text/html": [
       "<div>\n",
       "<style scoped>\n",
       "    .dataframe tbody tr th:only-of-type {\n",
       "        vertical-align: middle;\n",
       "    }\n",
       "\n",
       "    .dataframe tbody tr th {\n",
       "        vertical-align: top;\n",
       "    }\n",
       "\n",
       "    .dataframe thead th {\n",
       "        text-align: right;\n",
       "    }\n",
       "</style>\n",
       "<table border=\"1\" class=\"dataframe\">\n",
       "  <thead>\n",
       "    <tr style=\"text-align: right;\">\n",
       "      <th></th>\n",
       "      <th>Province</th>\n",
       "      <th>Regency</th>\n",
       "      <th>Regency Population (2020)</th>\n",
       "      <th>geometry</th>\n",
       "    </tr>\n",
       "  </thead>\n",
       "  <tbody>\n",
       "    <tr>\n",
       "      <th>2</th>\n",
       "      <td>ACEH</td>\n",
       "      <td>KABUPATEN SIMEULUE</td>\n",
       "      <td>108586</td>\n",
       "      <td>MULTIPOLYGON (((96.66509 2.12018, 96.66765 2.1...</td>\n",
       "    </tr>\n",
       "    <tr>\n",
       "      <th>3</th>\n",
       "      <td>ACEH</td>\n",
       "      <td>KABUPATEN ACEH SINGKIL</td>\n",
       "      <td>137678</td>\n",
       "      <td>MULTIPOLYGON (((97.39711 2.03835, 97.39588 2.0...</td>\n",
       "    </tr>\n",
       "    <tr>\n",
       "      <th>4</th>\n",
       "      <td>ACEH</td>\n",
       "      <td>KABUPATEN ACEH SELATAN</td>\n",
       "      <td>207677</td>\n",
       "      <td>MULTIPOLYGON (((97.59461 2.80777, 97.59365 2.8...</td>\n",
       "    </tr>\n",
       "    <tr>\n",
       "      <th>5</th>\n",
       "      <td>ACEH</td>\n",
       "      <td>KABUPATEN ACEH TENGGARA</td>\n",
       "      <td>211427</td>\n",
       "      <td>POLYGON ((97.82406 3.74896, 97.82177 3.74658, ...</td>\n",
       "    </tr>\n",
       "    <tr>\n",
       "      <th>6</th>\n",
       "      <td>ACEH</td>\n",
       "      <td>KABUPATEN ACEH TIMUR</td>\n",
       "      <td>396175</td>\n",
       "      <td>POLYGON ((97.50049 5.24908, 97.50838 5.24523, ...</td>\n",
       "    </tr>\n",
       "    <tr>\n",
       "      <th>...</th>\n",
       "      <td>...</td>\n",
       "      <td>...</td>\n",
       "      <td>...</td>\n",
       "      <td>...</td>\n",
       "    </tr>\n",
       "    <tr>\n",
       "      <th>527</th>\n",
       "      <td>PAPUA</td>\n",
       "      <td>KABUPATEN PUNCAK</td>\n",
       "      <td>220441</td>\n",
       "      <td>POLYGON ((137.38573 -2.96489, 137.38681 -2.968...</td>\n",
       "    </tr>\n",
       "    <tr>\n",
       "      <th>528</th>\n",
       "      <td>PAPUA</td>\n",
       "      <td>KABUPATEN DOGIYAI</td>\n",
       "      <td>137190</td>\n",
       "      <td>POLYGON ((136.06136 -3.72440, 136.06944 -3.727...</td>\n",
       "    </tr>\n",
       "    <tr>\n",
       "      <th>529</th>\n",
       "      <td>PAPUA</td>\n",
       "      <td>KABUPATEN INTAN JAYA</td>\n",
       "      <td>102617</td>\n",
       "      <td>POLYGON ((136.30807 -2.90939, 136.30963 -2.911...</td>\n",
       "    </tr>\n",
       "    <tr>\n",
       "      <th>530</th>\n",
       "      <td>PAPUA</td>\n",
       "      <td>KABUPATEN DEIYAI</td>\n",
       "      <td>157417</td>\n",
       "      <td>POLYGON ((136.24767 -3.99286, 136.27673 -3.993...</td>\n",
       "    </tr>\n",
       "    <tr>\n",
       "      <th>531</th>\n",
       "      <td>PAPUA</td>\n",
       "      <td>KOTA JAYAPURA</td>\n",
       "      <td>360618</td>\n",
       "      <td>MULTIPOLYGON (((140.72183 -2.63061, 140.72195 ...</td>\n",
       "    </tr>\n",
       "  </tbody>\n",
       "</table>\n",
       "<p>498 rows × 4 columns</p>\n",
       "</div>"
      ],
      "text/plain": [
       "    Province                  Regency  Regency Population (2020)  \\\n",
       "2       ACEH       KABUPATEN SIMEULUE                     108586   \n",
       "3       ACEH   KABUPATEN ACEH SINGKIL                     137678   \n",
       "4       ACEH   KABUPATEN ACEH SELATAN                     207677   \n",
       "5       ACEH  KABUPATEN ACEH TENGGARA                     211427   \n",
       "6       ACEH     KABUPATEN ACEH TIMUR                     396175   \n",
       "..       ...                      ...                        ...   \n",
       "527    PAPUA         KABUPATEN PUNCAK                     220441   \n",
       "528    PAPUA        KABUPATEN DOGIYAI                     137190   \n",
       "529    PAPUA     KABUPATEN INTAN JAYA                     102617   \n",
       "530    PAPUA         KABUPATEN DEIYAI                     157417   \n",
       "531    PAPUA            KOTA JAYAPURA                     360618   \n",
       "\n",
       "                                              geometry  \n",
       "2    MULTIPOLYGON (((96.66509 2.12018, 96.66765 2.1...  \n",
       "3    MULTIPOLYGON (((97.39711 2.03835, 97.39588 2.0...  \n",
       "4    MULTIPOLYGON (((97.59461 2.80777, 97.59365 2.8...  \n",
       "5    POLYGON ((97.82406 3.74896, 97.82177 3.74658, ...  \n",
       "6    POLYGON ((97.50049 5.24908, 97.50838 5.24523, ...  \n",
       "..                                                 ...  \n",
       "527  POLYGON ((137.38573 -2.96489, 137.38681 -2.968...  \n",
       "528  POLYGON ((136.06136 -3.72440, 136.06944 -3.727...  \n",
       "529  POLYGON ((136.30807 -2.90939, 136.30963 -2.911...  \n",
       "530  POLYGON ((136.24767 -3.99286, 136.27673 -3.993...  \n",
       "531  MULTIPOLYGON (((140.72183 -2.63061, 140.72195 ...  \n",
       "\n",
       "[498 rows x 4 columns]"
      ]
     },
     "execution_count": 105,
     "metadata": {},
     "output_type": "execute_result"
    }
   ],
   "source": [
    "id_map_data"
   ]
  },
  {
   "cell_type": "code",
   "execution_count": 106,
   "id": "2ee31df1-3f4e-4db5-859d-16dd710f850d",
   "metadata": {},
   "outputs": [],
   "source": [
    "id_groups = people_groups.query(\"(Country == 'Indonesia') & (`People Cluster` not in ['Chinese', 'Persian', 'Deaf'])\")\n",
    "id_groups = id_groups[['Country', 'People Group', 'Population', 'Language', 'Religion', 'People Name', 'Latitude', 'Longitude']]\n",
    "id_groups = id_groups.rename({'Population':'People Group Population'}, axis=1)"
   ]
  },
  {
   "cell_type": "code",
   "execution_count": 107,
   "id": "64da26e5-feef-4c0b-aeff-0a3b8e7ad35f",
   "metadata": {},
   "outputs": [],
   "source": [
    "geo_prov = id_map_data[['geometry', 'Province']].set_index('Province')\n",
    "\n",
    "def province():\n",
    "    provs = []\n",
    "    for i in np.arange(len(id_groups.index)):\n",
    "        coordinate = Point(map(float, (id_groups['Longitude'].iloc[i], id_groups['Latitude'].iloc[i])))\n",
    "        group_prov = geo_prov[geo_prov['geometry'].contains(coordinate) == True].index.values\n",
    "        if len(group_prov) == 0:\n",
    "            group_prov = ['MISSING']\n",
    "        provs.append(group_prov[0])\n",
    "    return provs\n",
    "\n",
    "id_groups['Province'] = province()"
   ]
  },
  {
   "cell_type": "code",
   "execution_count": 108,
   "id": "a9053aa2-4c6f-4a9f-87d3-0b68ec426533",
   "metadata": {},
   "outputs": [],
   "source": [
    "geo_reg = id_map_data[['geometry', 'Regency']].set_index('Regency')\n",
    "\n",
    "def regency():\n",
    "    provs = []\n",
    "    for i in np.arange(len(id_groups.index)):\n",
    "        coordinate = Point(map(float, (id_groups['Longitude'].iloc[i], id_groups['Latitude'].iloc[i])))\n",
    "        group_prov = geo_reg[geo_reg['geometry'].contains(coordinate) == True].index.values\n",
    "        if len(group_prov) == 0:\n",
    "            group_prov = ['MISSING']\n",
    "        provs.append(group_prov[0])\n",
    "    return provs\n",
    "\n",
    "id_groups['Regency'] = regency()"
   ]
  },
  {
   "cell_type": "code",
   "execution_count": 109,
   "id": "4915d77b-91b9-4df5-801f-e1d7d301d139",
   "metadata": {},
   "outputs": [
    {
     "data": {
      "text/html": [
       "<div>\n",
       "<style scoped>\n",
       "    .dataframe tbody tr th:only-of-type {\n",
       "        vertical-align: middle;\n",
       "    }\n",
       "\n",
       "    .dataframe tbody tr th {\n",
       "        vertical-align: top;\n",
       "    }\n",
       "\n",
       "    .dataframe thead th {\n",
       "        text-align: right;\n",
       "    }\n",
       "</style>\n",
       "<table border=\"1\" class=\"dataframe\">\n",
       "  <thead>\n",
       "    <tr style=\"text-align: right;\">\n",
       "      <th></th>\n",
       "      <th>Regency</th>\n",
       "      <th>People List</th>\n",
       "    </tr>\n",
       "  </thead>\n",
       "  <tbody>\n",
       "    <tr>\n",
       "      <th>0</th>\n",
       "      <td>KABUPATEN ACEH SELATAN</td>\n",
       "      <td>[Aneuk Jamee, Kluet]</td>\n",
       "    </tr>\n",
       "    <tr>\n",
       "      <th>1</th>\n",
       "      <td>KABUPATEN ACEH SINGKIL</td>\n",
       "      <td>[Batak Dairi, Pakpak Boang]</td>\n",
       "    </tr>\n",
       "    <tr>\n",
       "      <th>2</th>\n",
       "      <td>KABUPATEN ACEH TAMIANG</td>\n",
       "      <td>[Tamiang]</td>\n",
       "    </tr>\n",
       "    <tr>\n",
       "      <th>3</th>\n",
       "      <td>KABUPATEN ACEH TENGAH</td>\n",
       "      <td>[Gayo]</td>\n",
       "    </tr>\n",
       "    <tr>\n",
       "      <th>4</th>\n",
       "      <td>KABUPATEN ACEH TENGGARA</td>\n",
       "      <td>[Alas]</td>\n",
       "    </tr>\n",
       "  </tbody>\n",
       "</table>\n",
       "</div>"
      ],
      "text/plain": [
       "                   Regency                  People List\n",
       "0   KABUPATEN ACEH SELATAN         [Aneuk Jamee, Kluet]\n",
       "1   KABUPATEN ACEH SINGKIL  [Batak Dairi, Pakpak Boang]\n",
       "2   KABUPATEN ACEH TAMIANG                    [Tamiang]\n",
       "3    KABUPATEN ACEH TENGAH                       [Gayo]\n",
       "4  KABUPATEN ACEH TENGGARA                       [Alas]"
      ]
     },
     "execution_count": 109,
     "metadata": {},
     "output_type": "execute_result"
    }
   ],
   "source": [
    "group_by_regency = id_groups.groupby('Regency')['People Group'].agg(['unique']).reset_index().rename(columns={'unique': 'People List'})\n",
    "group_by_regency.head()"
   ]
  },
  {
   "cell_type": "code",
   "execution_count": 110,
   "id": "d675e064-794b-42a1-80ef-0eed3c8a33b6",
   "metadata": {},
   "outputs": [],
   "source": [
    "def prettylist(lst):\n",
    "    people_string = ''\n",
    "    char_count = 0\n",
    "    index = 0\n",
    "    while index < len(lst):\n",
    "        item = lst[index]\n",
    "        if index == (len(lst) - 1):\n",
    "            people_string += item\n",
    "            char_count += len(item)\n",
    "        elif char_count >= 40:\n",
    "            people_string += \"<br>\" + item + ', '\n",
    "            char_count = 0\n",
    "        else:\n",
    "            people_string += item + ', '\n",
    "            char_count += len(item)\n",
    "        index += 1\n",
    "    return people_string\n",
    "\n",
    "group_by_regency['People List'] = group_by_regency['People List'].apply(lambda row: prettylist(row));\n",
    "\n",
    "indonesia = pd.merge(id_map_data, group_by_regency, on='Regency', how='left')\n",
    "indonesia.fillna(' ', inplace=True)"
   ]
  },
  {
   "cell_type": "code",
   "execution_count": 111,
   "id": "51292d9e-25fc-497d-830f-62f7a247609a",
   "metadata": {},
   "outputs": [],
   "source": [
    "id_groups['geometry'] = gpd.points_from_xy(id_groups.Longitude, id_groups.Latitude)\n",
    "id_points = gpd.GeoDataFrame(id_groups, geometry='geometry')"
   ]
  },
  {
   "cell_type": "markdown",
   "id": "123f900b-56fb-455f-884b-f55f1b4f30f7",
   "metadata": {},
   "source": [
    "***"
   ]
  },
  {
   "cell_type": "markdown",
   "id": "03c17bae-7cbc-4559-adb8-4014bfcc2b81",
   "metadata": {},
   "source": [
    "# Papua New Guinea"
   ]
  },
  {
   "cell_type": "code",
   "execution_count": 112,
   "id": "f20b8c2a-370c-4269-9402-2b164e058986",
   "metadata": {},
   "outputs": [],
   "source": [
    "f = \"./PNG_pop_estimates/Papua New Guinea_5yr_age_sex_2015-2030_508_uscb_mar2022.xlsx\"\n",
    "png_pop_estimates = pd.read_excel(f, sheet_name='2015 - 2030', header = 3)\n",
    "\n",
    "\n",
    "file = \"./PNG_pop_estimates/Papua_New_Guinea_adm2_uscb_2022.shp\"\n",
    "png_adm2 = gpd.read_file(file)\n",
    "\n",
    "png_map_data = pd.merge(png_pop_estimates[['AREA_NAME', 'GEO_CONCAT', 'ADM1_NAME', 'ADM2_NAME','ADM_LEVEL', 'BTOTL_2020']],\n",
    "                      png_adm2[['GEO_CONCAT', 'geometry']], on='GEO_CONCAT', how='left')\n",
    "png_map_data.columns = ['AREA_NAME', 'GEO_CONCAT', 'Province', 'District', 'ADM_LEVEL', 'District Population (2020)', 'geometry']\n",
    "png_map_data = gpd.GeoDataFrame(png_map_data.query('geometry != None').drop(['AREA_NAME', 'GEO_CONCAT', 'ADM_LEVEL'], axis=1), geometry='geometry')"
   ]
  },
  {
   "cell_type": "markdown",
   "id": "84205cdf-0b59-4df3-97c6-9d6273f5fece",
   "metadata": {},
   "source": [
    "USE FOR OTHER MAP\n",
    "\n",
    "png_map_data = pd.merge(png_pop_estimates[['GEO_CONCAT', 'ADM1_NAME', 'ADM2_NAME', 'BTOTL_2015', 'BTOTL_2016',\n",
    "                                         'BTOTL_2017', 'BTOTL_2018', 'BTOTL_2019', 'BTOTL_2020']],\n",
    "                      png_adm2[['GEO_CONCAT', 'geometry']], on='GEO_CONCAT', how='left')\n",
    "\n",
    "png_map_data.columns = ['GEO_CONCAT', 'Province', 'District', 'District Population (2015)', 'District Population (2016)',\n",
    "                                         'District Population (2017)', 'District Population (2018)', 'District Population (2019)', 'District Population (2020)', 'geometry']\n",
    "\n",
    "png_map_data = gpd.GeoDataFrame(png_map_data.query('geometry != None').drop('GEO_CONCAT', axis=1), geometry='geometry')"
   ]
  },
  {
   "cell_type": "code",
   "execution_count": 113,
   "id": "90551445-6968-4034-a04c-9dc23fdedccc",
   "metadata": {},
   "outputs": [
    {
     "data": {
      "text/html": [
       "<div>\n",
       "<style scoped>\n",
       "    .dataframe tbody tr th:only-of-type {\n",
       "        vertical-align: middle;\n",
       "    }\n",
       "\n",
       "    .dataframe tbody tr th {\n",
       "        vertical-align: top;\n",
       "    }\n",
       "\n",
       "    .dataframe thead th {\n",
       "        text-align: right;\n",
       "    }\n",
       "</style>\n",
       "<table border=\"1\" class=\"dataframe\">\n",
       "  <thead>\n",
       "    <tr style=\"text-align: right;\">\n",
       "      <th></th>\n",
       "      <th>Province</th>\n",
       "      <th>District</th>\n",
       "      <th>District Population (2020)</th>\n",
       "      <th>geometry</th>\n",
       "    </tr>\n",
       "  </thead>\n",
       "  <tbody>\n",
       "    <tr>\n",
       "      <th>2</th>\n",
       "      <td>WESTERN</td>\n",
       "      <td>MIDDLE FLY</td>\n",
       "      <td>97838</td>\n",
       "      <td>MULTIPOLYGON (((142.92813 -8.39891, 142.92432 ...</td>\n",
       "    </tr>\n",
       "    <tr>\n",
       "      <th>8</th>\n",
       "      <td>WESTERN</td>\n",
       "      <td>NORTH FLY</td>\n",
       "      <td>69023</td>\n",
       "      <td>POLYGON ((142.15489 -5.64145, 142.15369 -5.647...</td>\n",
       "    </tr>\n",
       "    <tr>\n",
       "      <th>14</th>\n",
       "      <td>WESTERN</td>\n",
       "      <td>SOUTH FLY</td>\n",
       "      <td>66584</td>\n",
       "      <td>MULTIPOLYGON (((142.72210 -9.31019, 142.71991 ...</td>\n",
       "    </tr>\n",
       "    <tr>\n",
       "      <th>20</th>\n",
       "      <td>GULF</td>\n",
       "      <td>KEREMA</td>\n",
       "      <td>164123</td>\n",
       "      <td>MULTIPOLYGON (((146.15963 -8.21856, 146.15882 ...</td>\n",
       "    </tr>\n",
       "    <tr>\n",
       "      <th>27</th>\n",
       "      <td>GULF</td>\n",
       "      <td>KIKORI</td>\n",
       "      <td>55790</td>\n",
       "      <td>MULTIPOLYGON (((145.42429 -7.94389, 145.42141 ...</td>\n",
       "    </tr>\n",
       "  </tbody>\n",
       "</table>\n",
       "</div>"
      ],
      "text/plain": [
       "   Province    District  District Population (2020)  \\\n",
       "2   WESTERN  MIDDLE FLY                       97838   \n",
       "8   WESTERN   NORTH FLY                       69023   \n",
       "14  WESTERN   SOUTH FLY                       66584   \n",
       "20     GULF      KEREMA                      164123   \n",
       "27     GULF      KIKORI                       55790   \n",
       "\n",
       "                                             geometry  \n",
       "2   MULTIPOLYGON (((142.92813 -8.39891, 142.92432 ...  \n",
       "8   POLYGON ((142.15489 -5.64145, 142.15369 -5.647...  \n",
       "14  MULTIPOLYGON (((142.72210 -9.31019, 142.71991 ...  \n",
       "20  MULTIPOLYGON (((146.15963 -8.21856, 146.15882 ...  \n",
       "27  MULTIPOLYGON (((145.42429 -7.94389, 145.42141 ...  "
      ]
     },
     "execution_count": 113,
     "metadata": {},
     "output_type": "execute_result"
    }
   ],
   "source": [
    "png_map_data.head()"
   ]
  },
  {
   "cell_type": "code",
   "execution_count": 114,
   "id": "65039ada-b9a1-4685-9ce3-01536c620c77",
   "metadata": {},
   "outputs": [],
   "source": [
    "png_groups = people_groups.query(\"(`Affinity Bloc` == 'Pacific Islanders') & (`Country` == 'Papua New Guinea')\")\n",
    "png_groups = png_groups[['Country', 'People Group', 'Population', 'Language', 'Religion', 'People Name', 'Latitude', 'Longitude']]\n",
    "png_groups = png_groups.rename({'Population':'People Group Population'}, axis=1)"
   ]
  },
  {
   "cell_type": "code",
   "execution_count": 115,
   "id": "b2408229-0dfd-4daa-83b1-aa4f5532d3f7",
   "metadata": {},
   "outputs": [],
   "source": [
    "geo_provPNG = png_map_data[['geometry', 'Province']].set_index('Province')\n",
    "\n",
    "def provincePNG():\n",
    "    provs = []\n",
    "    for i in np.arange(len(png_groups.index)):\n",
    "        coordinate = Point(map(float, (png_groups['Longitude'].iloc[i], png_groups['Latitude'].iloc[i])))\n",
    "        group_provPNG = geo_provPNG[geo_provPNG['geometry'].contains(coordinate) == True].index.values\n",
    "        if len(group_provPNG) == 0:\n",
    "            group_provPNG = ['MISSING']\n",
    "        provs.append(group_provPNG[0])\n",
    "    return provs\n",
    "\n",
    "png_groups['Province'] = provincePNG()"
   ]
  },
  {
   "cell_type": "code",
   "execution_count": 116,
   "id": "52ff0030-8612-4d50-95d6-7408d52d6322",
   "metadata": {},
   "outputs": [],
   "source": [
    "geo_distPNG = png_map_data[['geometry', 'District']].set_index('District')\n",
    "\n",
    "def districtPNG():\n",
    "    provs = []\n",
    "    for i in np.arange(len(png_groups.index)):\n",
    "        coordinate = Point(map(float, (png_groups['Longitude'].iloc[i], png_groups['Latitude'].iloc[i])))\n",
    "        group_prov = geo_distPNG[geo_distPNG['geometry'].contains(coordinate) == True].index.values\n",
    "        if len(group_prov) == 0:\n",
    "            group_prov = ['MISSING']\n",
    "        provs.append(group_prov[0])\n",
    "    return provs\n",
    "\n",
    "png_groups['District'] = districtPNG()"
   ]
  },
  {
   "cell_type": "code",
   "execution_count": 117,
   "id": "d3fecbff-d874-44eb-b483-53c00b7dbc2e",
   "metadata": {},
   "outputs": [
    {
     "data": {
      "text/html": [
       "<div>\n",
       "<style scoped>\n",
       "    .dataframe tbody tr th:only-of-type {\n",
       "        vertical-align: middle;\n",
       "    }\n",
       "\n",
       "    .dataframe tbody tr th {\n",
       "        vertical-align: top;\n",
       "    }\n",
       "\n",
       "    .dataframe thead th {\n",
       "        text-align: right;\n",
       "    }\n",
       "</style>\n",
       "<table border=\"1\" class=\"dataframe\">\n",
       "  <thead>\n",
       "    <tr style=\"text-align: right;\">\n",
       "      <th></th>\n",
       "      <th>District</th>\n",
       "      <th>People List</th>\n",
       "    </tr>\n",
       "  </thead>\n",
       "  <tbody>\n",
       "    <tr>\n",
       "      <th>0</th>\n",
       "      <td>ABAU</td>\n",
       "      <td>[Binahari, Daga, Domu, Keopara, Magori, Mailu,...</td>\n",
       "    </tr>\n",
       "    <tr>\n",
       "      <th>1</th>\n",
       "      <td>AITAPE-LUMI</td>\n",
       "      <td>[Ak, Aruek, Aunalei, Bouye, Dia, Elkei, Kamnum...</td>\n",
       "    </tr>\n",
       "    <tr>\n",
       "      <th>2</th>\n",
       "      <td>ALOTAU</td>\n",
       "      <td>[Anuki, Boanaki, Bohutu, Dawawa, Doga, Garuwah...</td>\n",
       "    </tr>\n",
       "    <tr>\n",
       "      <th>3</th>\n",
       "      <td>AMBUNTI-DREIKIKIR</td>\n",
       "      <td>[Ama, Bahinemo, Bitara, Bo, Bongos, Chenapian,...</td>\n",
       "    </tr>\n",
       "    <tr>\n",
       "      <th>4</th>\n",
       "      <td>ANGALIMP-SOUTH WAHGI</td>\n",
       "      <td>[Chimbu, Kumai, Nii, Wahgi]</td>\n",
       "    </tr>\n",
       "  </tbody>\n",
       "</table>\n",
       "</div>"
      ],
      "text/plain": [
       "               District                                        People List\n",
       "0                  ABAU  [Binahari, Daga, Domu, Keopara, Magori, Mailu,...\n",
       "1           AITAPE-LUMI  [Ak, Aruek, Aunalei, Bouye, Dia, Elkei, Kamnum...\n",
       "2                ALOTAU  [Anuki, Boanaki, Bohutu, Dawawa, Doga, Garuwah...\n",
       "3     AMBUNTI-DREIKIKIR  [Ama, Bahinemo, Bitara, Bo, Bongos, Chenapian,...\n",
       "4  ANGALIMP-SOUTH WAHGI                        [Chimbu, Kumai, Nii, Wahgi]"
      ]
     },
     "execution_count": 117,
     "metadata": {},
     "output_type": "execute_result"
    }
   ],
   "source": [
    "group_by_district = png_groups.groupby('District')['People Group'].agg(['unique']).reset_index().rename(columns={'unique': 'People List'})\n",
    "group_by_district.head()"
   ]
  },
  {
   "cell_type": "code",
   "execution_count": 118,
   "id": "c095bf55-2f20-4637-9df7-63650548d829",
   "metadata": {},
   "outputs": [],
   "source": [
    "# pretty list cell\n",
    "group_by_district['People List'] = group_by_district['People List'].apply(lambda row: prettylist(row));\n",
    "\n",
    "papua_new_guinea = pd.merge(png_map_data, group_by_district, on='District', how='left')\n",
    "papua_new_guinea.fillna(' ', inplace=True)"
   ]
  },
  {
   "cell_type": "code",
   "execution_count": 119,
   "id": "3adb3a2d-151f-47ce-a670-f702378695ee",
   "metadata": {},
   "outputs": [],
   "source": [
    "png_groups['geometry'] = gpd.points_from_xy(png_groups.Longitude, png_groups.Latitude)\n",
    "png_points = gpd.GeoDataFrame(png_groups, geometry='geometry')"
   ]
  },
  {
   "cell_type": "markdown",
   "id": "0452e0e9-e29b-4d84-9338-ef325e2d0871",
   "metadata": {},
   "source": [
    "***"
   ]
  },
  {
   "cell_type": "markdown",
   "id": "bc10ed16-51a6-4698-99e3-63afff7bcdf3",
   "metadata": {},
   "source": [
    "# Philippines"
   ]
  },
  {
   "cell_type": "markdown",
   "id": "116cb0fe-46c4-41ed-a99d-0b7171a7f1d7",
   "metadata": {},
   "source": [
    "f = \"./PH_pop_estimates/Philippines_5yr_age_sex_2000-2040_508_uscb_apr2022.xlsx\"\n",
    "ph_pop_estimates = pd.read_excel(f, sheet_name='2000 - 2040', header = 3)\n",
    "\n",
    "file = \"./PH_pop_estimates/Philippines_adm2_uscb_2022.shp\"\n",
    "ph_adm2 = gpd.read_file(file)\n",
    "\n",
    "ph_map_data = pd.merge(ph_pop_estimates[['AREA_NAME', 'GEO_CONCAT', 'ADM1_NAME', 'ADM2_NAME','ADM_LEVEL', 'BTOTL_2020']],\n",
    "                      ph_adm2[['GEO_CONCAT', 'geometry']], on='GEO_CONCAT', how='left')\n",
    "\n",
    "ph_map_data.columns = ['AREA_NAME', 'GEO_CONCAT', 'Region', 'District', 'ADM_LEVEL', 'District Population (2020)', 'geometry']\n",
    "\n",
    "ph_map_data = gpd.GeoDataFrame(ph_map_data.query('geometry != None').drop(['AREA_NAME', 'GEO_CONCAT', 'ADM_LEVEL'], axis=1), geometry='geometry')"
   ]
  },
  {
   "cell_type": "code",
   "execution_count": 120,
   "id": "39b26f75-48b4-4416-9088-acd857ef9eab",
   "metadata": {},
   "outputs": [
    {
     "data": {
      "text/html": [
       "<div>\n",
       "<style scoped>\n",
       "    .dataframe tbody tr th:only-of-type {\n",
       "        vertical-align: middle;\n",
       "    }\n",
       "\n",
       "    .dataframe tbody tr th {\n",
       "        vertical-align: top;\n",
       "    }\n",
       "\n",
       "    .dataframe thead th {\n",
       "        text-align: right;\n",
       "    }\n",
       "</style>\n",
       "<table border=\"1\" class=\"dataframe\">\n",
       "  <thead>\n",
       "    <tr style=\"text-align: right;\">\n",
       "      <th></th>\n",
       "      <th>Country</th>\n",
       "      <th>People Group</th>\n",
       "      <th>People Group Population</th>\n",
       "      <th>Language</th>\n",
       "      <th>Religion</th>\n",
       "      <th>People Name</th>\n",
       "      <th>Latitude</th>\n",
       "      <th>Longitude</th>\n",
       "    </tr>\n",
       "  </thead>\n",
       "  <tbody>\n",
       "    <tr>\n",
       "      <th>3203</th>\n",
       "      <td>Philippines</td>\n",
       "      <td>Abaknon Sama</td>\n",
       "      <td>31000</td>\n",
       "      <td>Inabaknon - (abx)</td>\n",
       "      <td>Christianity - Roman Catholic</td>\n",
       "      <td>Abaknon Sama</td>\n",
       "      <td>12.426360</td>\n",
       "      <td>124.166450</td>\n",
       "    </tr>\n",
       "    <tr>\n",
       "      <th>3204</th>\n",
       "      <td>Philippines</td>\n",
       "      <td>Aklano</td>\n",
       "      <td>830000</td>\n",
       "      <td>Aklanon - (akl)</td>\n",
       "      <td>Christianity - Roman Catholic</td>\n",
       "      <td>Aklano</td>\n",
       "      <td>11.711100</td>\n",
       "      <td>122.278400</td>\n",
       "    </tr>\n",
       "    <tr>\n",
       "      <th>3205</th>\n",
       "      <td>Philippines</td>\n",
       "      <td>Capisano</td>\n",
       "      <td>945000</td>\n",
       "      <td>Capiznon - (cps)</td>\n",
       "      <td>Christianity - Roman Catholic</td>\n",
       "      <td>Capisano</td>\n",
       "      <td>11.412150</td>\n",
       "      <td>122.953590</td>\n",
       "    </tr>\n",
       "    <tr>\n",
       "      <th>3206</th>\n",
       "      <td>Philippines</td>\n",
       "      <td>Cebuano</td>\n",
       "      <td>22150000</td>\n",
       "      <td>Cebuano - (ceb)</td>\n",
       "      <td>Christianity - Roman Catholic</td>\n",
       "      <td>Visayan</td>\n",
       "      <td>7.071867</td>\n",
       "      <td>125.600776</td>\n",
       "    </tr>\n",
       "    <tr>\n",
       "      <th>3207</th>\n",
       "      <td>Philippines</td>\n",
       "      <td>Chabakano Creole</td>\n",
       "      <td>690000</td>\n",
       "      <td>Chavacano - (cbk)</td>\n",
       "      <td>Christianity - Roman Catholic</td>\n",
       "      <td>Chabakano Creole</td>\n",
       "      <td>7.116550</td>\n",
       "      <td>122.169420</td>\n",
       "    </tr>\n",
       "  </tbody>\n",
       "</table>\n",
       "</div>"
      ],
      "text/plain": [
       "          Country      People Group  People Group Population  \\\n",
       "3203  Philippines      Abaknon Sama                    31000   \n",
       "3204  Philippines            Aklano                   830000   \n",
       "3205  Philippines          Capisano                   945000   \n",
       "3206  Philippines           Cebuano                 22150000   \n",
       "3207  Philippines  Chabakano Creole                   690000   \n",
       "\n",
       "               Language                       Religion       People Name  \\\n",
       "3203  Inabaknon - (abx)  Christianity - Roman Catholic      Abaknon Sama   \n",
       "3204    Aklanon - (akl)  Christianity - Roman Catholic            Aklano   \n",
       "3205   Capiznon - (cps)  Christianity - Roman Catholic          Capisano   \n",
       "3206    Cebuano - (ceb)  Christianity - Roman Catholic           Visayan   \n",
       "3207  Chavacano - (cbk)  Christianity - Roman Catholic  Chabakano Creole   \n",
       "\n",
       "       Latitude   Longitude  \n",
       "3203  12.426360  124.166450  \n",
       "3204  11.711100  122.278400  \n",
       "3205  11.412150  122.953590  \n",
       "3206   7.071867  125.600776  \n",
       "3207   7.116550  122.169420  "
      ]
     },
     "execution_count": 120,
     "metadata": {},
     "output_type": "execute_result"
    }
   ],
   "source": [
    "ph_groups = people_groups.query(\"(`Country` == 'Philippines') & (`People Cluster`.str.contains('Filipino'))\")\n",
    "ph_groups = ph_groups[['Country', 'People Group', 'Population', 'Language', 'Religion', 'People Name', 'Latitude', 'Longitude']]\n",
    "ph_groups = ph_groups.rename({'Population':'People Group Population'}, axis=1)\n",
    "ph_groups.head()"
   ]
  },
  {
   "cell_type": "markdown",
   "id": "c52d5f35-d77a-4da1-be0f-01d9803eaadc",
   "metadata": {},
   "source": [
    "geo_regPH = ph_map_data[['geometry', 'Region']].set_index('Region')\n",
    "\n",
    "def regionPH():\n",
    "    regs = []\n",
    "    for i in np.arange(len(ph_groups.index)):\n",
    "        coordinate = Point(map(float, (ph_groups['Longitude'].iloc[i], ph_groups['Latitude'].iloc[i])))\n",
    "        group_regPH = geo_regPH[geo_regPH['geometry'].contains(coordinate) == True].index.values\n",
    "        if len(group_regPH) == 0:\n",
    "            group_regPH = ['MISSING']\n",
    "        regs.append(group_regPH[0])\n",
    "    return regs\n",
    "\n",
    "ph_groups['Region'] = regionPH()"
   ]
  },
  {
   "cell_type": "markdown",
   "id": "36d14ef9-1240-4dce-895f-ad48e446fd5e",
   "metadata": {},
   "source": [
    "geo_distPH = ph_map_data[['geometry', 'District']].set_index('District')\n",
    "\n",
    "def districtPH():\n",
    "    provs = []\n",
    "    for i in np.arange(len(ph_groups.index)):\n",
    "        coordinate = Point(map(float, (ph_groups['Longitude'].iloc[i], ph_groups['Latitude'].iloc[i])))\n",
    "        group_prov = geo_distPH[geo_distPH['geometry'].contains(coordinate) == True].index.values\n",
    "        if len(group_prov) == 0:\n",
    "            group_prov = ['MISSING']\n",
    "        provs.append(group_prov[0])\n",
    "    return provs\n",
    "\n",
    "ph_groups['District'] = districtPH()"
   ]
  },
  {
   "cell_type": "markdown",
   "id": "51ebeced-934f-4cab-9848-77dd239f9a36",
   "metadata": {},
   "source": [
    "group_by_districtPH = ph_groups.groupby('District')['People Group'].agg(['unique']).reset_index().rename(columns={'unique': 'People List'})\n",
    "group_by_districtPH.head()"
   ]
  },
  {
   "cell_type": "markdown",
   "id": "f7e1e75c-dda5-4adc-bc1e-778651a1e54c",
   "metadata": {},
   "source": [
    "# pretty list cell\n",
    "group_by_districtPH['People List'] = group_by_districtPH['People List'].apply(lambda row: prettylist(row));\n",
    "\n",
    "philippines = pd.merge(ph_map_data, group_by_districtPH, on='District', how='left')\n",
    "philippines.fillna(' ', inplace=True)"
   ]
  },
  {
   "cell_type": "markdown",
   "id": "559341ab-c722-4d10-b5db-df4772cef459",
   "metadata": {},
   "source": [
    "ph_groups['geometry'] = gpd.points_from_xy(ph_groups.Longitude, ph_groups.Latitude)\n",
    "ph_points = gpd.GeoDataFrame(ph_groups, geometry='geometry')"
   ]
  },
  {
   "cell_type": "markdown",
   "id": "f47b2461-48cc-4272-925f-ce0a2b9abaab",
   "metadata": {},
   "source": [
    "***"
   ]
  },
  {
   "cell_type": "markdown",
   "id": "b248fd38-4f36-4514-b26e-fdf62040b869",
   "metadata": {},
   "source": [
    "# Map Code"
   ]
  },
  {
   "cell_type": "code",
   "execution_count": 121,
   "id": "118ce8ad-a1b6-4815-ab40-076fbda1e0ec",
   "metadata": {},
   "outputs": [],
   "source": [
    "id_groups['geometry'] = gpd.points_from_xy(id_groups.Longitude, id_groups.Latitude)\n",
    "id_points = gpd.GeoDataFrame(id_groups, geometry='geometry')\n",
    "\n",
    "nusantara = indonesia.explore(\n",
    "    name = 'ID Regency Data (2020)',\n",
    "    prefer_canvas=True,\n",
    "    color = 'blue'\n",
    ")\n",
    "\n",
    "id_points.explore(\n",
    "    m = nusantara,\n",
    "    color = 'red',\n",
    "    prefer_canvas=True,\n",
    "    marker_kwds = dict(radius=3, fill=True),\n",
    "    name = 'ID People Groups'\n",
    ")\n",
    "\n",
    "papua_new_guinea.explore(\n",
    "    m = nusantara,\n",
    "    prefer_canvas=True,\n",
    "    name = 'PNG District Data (2020)',\n",
    "    color = 'blue'\n",
    ")\n",
    "\n",
    "png_points.explore(\n",
    "    m = nusantara,\n",
    "    color = 'red',\n",
    "    prefer_canvas=True,\n",
    "    marker_kwds = dict(radius=3, fill=True),\n",
    "    name = 'PNG People Groups'\n",
    ")\n",
    "\n",
    "\n",
    "folium.LayerControl().add_to(nusantara);"
   ]
  },
  {
   "cell_type": "markdown",
   "id": "ef2007d8-07af-40ea-a588-11c8745d20d1",
   "metadata": {},
   "source": [
    "***"
   ]
  },
  {
   "cell_type": "code",
   "execution_count": 123,
   "id": "eb521d30-fcaf-4868-ad5d-d9978a9e6e3b",
   "metadata": {},
   "outputs": [],
   "source": [
    "# nusantara"
   ]
  },
  {
   "cell_type": "markdown",
   "id": "830db350-302c-4c48-96f3-0a5c1624de1a",
   "metadata": {},
   "source": [
    "***"
   ]
  },
  {
   "cell_type": "code",
   "execution_count": 22,
   "id": "0112b32b-bd4a-49d3-946c-b188adc27e88",
   "metadata": {},
   "outputs": [],
   "source": [
    "# output_file = \"nusantara.html\"\n",
    "# curr_map = nusantara\n",
    "# curr_map.save(output_file)\n",
    "# webbrowser.open(output_file, new=2)  # open in new tab"
   ]
  },
  {
   "cell_type": "markdown",
   "id": "a102abe1-79b0-4ab3-a4d8-8186be029ab0",
   "metadata": {},
   "source": [
    "***"
   ]
  }
 ],
 "metadata": {
  "kernelspec": {
   "display_name": "Python 3 (ipykernel)",
   "language": "python",
   "name": "python3"
  },
  "language_info": {
   "codemirror_mode": {
    "name": "ipython",
    "version": 3
   },
   "file_extension": ".py",
   "mimetype": "text/x-python",
   "name": "python",
   "nbconvert_exporter": "python",
   "pygments_lexer": "ipython3",
   "version": "3.10.5"
  }
 },
 "nbformat": 4,
 "nbformat_minor": 5
}
